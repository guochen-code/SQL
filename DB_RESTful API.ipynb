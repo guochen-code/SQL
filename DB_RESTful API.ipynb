{
 "cells": [
  {
   "cell_type": "markdown",
   "id": "1fd68736-ad94-4cb6-9fc2-cdf05dc5b270",
   "metadata": {},
   "source": [
    "# old way"
   ]
  },
  {
   "cell_type": "code",
   "execution_count": 1,
   "id": "e5dcf516-9b0e-4310-a81c-3bb35806a761",
   "metadata": {},
   "outputs": [],
   "source": [
    "import sqlite3\n",
    "import pandas as pd\n",
    "import requests\n",
    "import json\n",
    "import time"
   ]
  },
  {
   "cell_type": "code",
   "execution_count": 35,
   "id": "2ad2616e-587c-4564-92b5-785242d75cbb",
   "metadata": {},
   "outputs": [],
   "source": [
    "# comment out if already created\n",
    "# create a database\n",
    "from pathlib import Path\n",
    "Path('api_database.db').touch()"
   ]
  },
  {
   "cell_type": "code",
   "execution_count": 2,
   "id": "a5000ec7-b9c1-4c9e-801a-03dc35af4f8e",
   "metadata": {},
   "outputs": [],
   "source": [
    "# connect with empty db\n",
    "conn = sqlite3.connect('api_database.db')\n",
    "c = conn.cursor()"
   ]
  },
  {
   "cell_type": "code",
   "execution_count": null,
   "id": "78cc9a54-d0e5-4d27-967e-c09a65cfcb7c",
   "metadata": {},
   "outputs": [],
   "source": [
    "# create table\n",
    "c.execute('''DROP TABLE streaming''')\n",
    "c.execute('''CREATE TABLE streaming (oplajob text, timestamp int, receive at int)''')\n",
    "query0=''' select* from streaming'''\n",
    "pd.read_sql(query0, conn)"
   ]
  },
  {
   "cell_type": "code",
   "execution_count": null,
   "id": "6dac2b2c-3fa5-4591-a926-ebdd77801279",
   "metadata": {},
   "outputs": [],
   "source": [
    "# truncate table\n",
    "# c.execute('''DELETE FROM streaming''')"
   ]
  },
  {
   "cell_type": "code",
   "execution_count": null,
   "id": "17616b0c-71c7-49b4-b0d6-35b75eee11a6",
   "metadata": {},
   "outputs": [],
   "source": [
    "query0=''' select* from streaming'''\n",
    "pd.read_sql(query0, conn)"
   ]
  },
  {
   "cell_type": "markdown",
   "id": "b9d6a98e-ee78-4596-82de-2688fb51e3a0",
   "metadata": {},
   "source": [
    "# new way"
   ]
  },
  {
   "cell_type": "code",
   "execution_count": 6,
   "id": "0d742e32-d222-4818-bf50-da0d25b6f04b",
   "metadata": {},
   "outputs": [],
   "source": [
    "from sqlalchemy import create_engine\n",
    "import pandas as pd"
   ]
  },
  {
   "cell_type": "code",
   "execution_count": 7,
   "id": "c8ed9836-e13b-4d93-bded-14426df03dc9",
   "metadata": {},
   "outputs": [],
   "source": [
    "engine = create_engine('sqlite:///api_database.db')"
   ]
  },
  {
   "cell_type": "code",
   "execution_count": 8,
   "id": "e1611316-17c7-435b-ad0e-3555ff047487",
   "metadata": {},
   "outputs": [
    {
     "name": "stdout",
     "output_type": "stream",
     "text": [
      "Engine(sqlite:///api_database.db)\n"
     ]
    }
   ],
   "source": [
    "engine.connect()\n",
    "print(engine)"
   ]
  },
  {
   "cell_type": "code",
   "execution_count": null,
   "id": "d7c439da-8369-41e1-bfdd-7e0538f7c7da",
   "metadata": {},
   "outputs": [],
   "source": [
    "print(engine.table_names())"
   ]
  },
  {
   "cell_type": "code",
   "execution_count": 10,
   "id": "6c178ce0-8cd3-442e-a2c5-77ddc0335eae",
   "metadata": {},
   "outputs": [],
   "source": [
    "from sqlalchemy import text\n",
    "with engine.connect() as connection:\n",
    "    result = connection.execute(text(\"select * from streaming\"))\n",
    "    for row in result:\n",
    "        print(row)"
   ]
  },
  {
   "cell_type": "code",
   "execution_count": 11,
   "id": "b4024f90-4af6-4674-9ee0-a2ca36ed608c",
   "metadata": {},
   "outputs": [
    {
     "data": {
      "text/plain": [
       "[]"
      ]
     },
     "execution_count": 11,
     "metadata": {},
     "output_type": "execute_result"
    }
   ],
   "source": [
    "result.fetchall() # because no data in the table"
   ]
  },
  {
   "cell_type": "code",
   "execution_count": 7,
   "id": "d92d510e-d0e2-470a-8ba2-4644dab4324f",
   "metadata": {},
   "outputs": [],
   "source": [
    "result = engine.execute('''select * from streaming''')\n",
    "for row in result:\n",
    "    print (row)"
   ]
  },
  {
   "cell_type": "code",
   "execution_count": 8,
   "id": "1c6018d4-51c6-4bdc-b2ee-b67fc6e6fb16",
   "metadata": {},
   "outputs": [
    {
     "data": {
      "text/plain": [
       "[]"
      ]
     },
     "execution_count": 8,
     "metadata": {},
     "output_type": "execute_result"
    }
   ],
   "source": [
    "result.fetchall()  # because no data in the table"
   ]
  },
  {
   "cell_type": "code",
   "execution_count": 160,
   "id": "4e558447-a4d9-4b07-ac22-15a8edecc824",
   "metadata": {},
   "outputs": [],
   "source": [
    "sql_query = pd.read_sql_query('SELECT * FROM streaming', engine)"
   ]
  },
  {
   "cell_type": "code",
   "execution_count": null,
   "id": "32e471c1-40e9-4ae2-8430-3688fa83d9fd",
   "metadata": {},
   "outputs": [],
   "source": [
    "df = pd.DataFrame(sql_query)\n",
    "df"
   ]
  },
  {
   "cell_type": "code",
   "execution_count": 13,
   "id": "68c4cba8-11ad-47c7-973f-5f516fafcc1a",
   "metadata": {},
   "outputs": [],
   "source": [
    "from sqlalchemy import text\n",
    "\n",
    "with engine.connect() as connection:\n",
    "    result = connection.execute(text(\"INSERT INTO streaming (a,b,c) values(1,2,3)\"))"
   ]
  },
  {
   "cell_type": "code",
   "execution_count": null,
   "id": "203308b7-8f2b-4409-bd9f-938011ce5f42",
   "metadata": {},
   "outputs": [],
   "source": [
    "sql_query = pd.read_sql_query('SELECT * FROM streaming', engine)\n",
    "df = pd.DataFrame(sql_query)\n",
    "df"
   ]
  },
  {
   "cell_type": "markdown",
   "id": "e3fd5625-1af9-4375-8efb-a8d3b8d0f0a7",
   "metadata": {},
   "source": [
    "# main.py"
   ]
  },
  {
   "cell_type": "code",
   "execution_count": null,
   "id": "8289eff4-85be-406e-9ecf-9522e7b84b3f",
   "metadata": {},
   "outputs": [],
   "source": [
    "from fastapi import FastAPI\n",
    "import sqlite3\n",
    "import pandas as pd\n",
    "from fastapi.responses import JSONResponse\n",
    "import time\n",
    "from sqlalchemy import create_engine\n",
    "from sqlalchemy import text\n",
    "\n",
    "engine = create_engine('sqlite:///api_database.db')\n",
    "engine.connect()\n",
    "\n",
    "\n",
    "# conn = sqlite3.connect('api_database.db')\n",
    "# c = conn.cursor()\n",
    "\n",
    "app = FastAPI()\n",
    "\n",
    "# @app.get('/get/{timestamp}')\n",
    "# async def get_timestamp(timestamp:int):\n",
    "#     query0= \"select * from streaming where timestamp = \" + str(timestamp)\n",
    "#     return pd.read_sql(query0,conn)\n",
    "\n",
    "# @app.post('/post/{timestamp}')\n",
    "# async def post_timestamp(timestamp:int):\n",
    "#     conn = sqlite3.connect('api_database.db')\n",
    "#     c = conn.cursor()\n",
    "#     query=f\"INSERT INTO streaming (oplajob,timestamp,receive) values('OPLA-587391',999,999)\"\n",
    "#     c.execute(query)   \n",
    "#     return 'Done!'\n",
    "\n",
    "\n",
    "\n",
    "\n",
    "@app.get('/get-all/{timestamp}')\n",
    "async def get_timestamp(timestamp:int):\n",
    "    with engine.connect() as connection:\n",
    "        sql_query = pd.read_sql_query(f'SELECT * FROM streaming where timestamp = {timestamp}', engine)\n",
    "        df = pd.DataFrame(sql_query)\n",
    "        return df.to_json()\n",
    "    \n",
    "    \n",
    "@app.post('/post-all/{timestamp}')\n",
    "async def post_timestamp(timestamp:int):\n",
    "    with engine.connect() as connection:\n",
    "        connection.execute(text(f\"INSERT INTO streaming (oplajob,timestamp,receive) values('job-123',{timestamp},11111111111111)\"))\n",
    "        return f'timestamp {timestamp} inserted!!!'"
   ]
  }
 ],
 "metadata": {
  "kernelspec": {
   "display_name": "Python 3 (ipykernel)",
   "language": "python",
   "name": "python3"
  },
  "language_info": {
   "codemirror_mode": {
    "name": "ipython",
    "version": 3
   },
   "file_extension": ".py",
   "mimetype": "text/x-python",
   "name": "python",
   "nbconvert_exporter": "python",
   "pygments_lexer": "ipython3",
   "version": "3.9.7"
  }
 },
 "nbformat": 4,
 "nbformat_minor": 5
}
